{
 "cells": [
  {
   "cell_type": "code",
   "execution_count": 1,
   "metadata": {},
   "outputs": [
    {
     "name": "stderr",
     "output_type": "stream",
     "text": [
      "/usr/local/lib/python3.5/dist-packages/h5py/__init__.py:36: FutureWarning: Conversion of the second argument of issubdtype from `float` to `np.floating` is deprecated. In future, it will be treated as `np.float64 == np.dtype(float).type`.\n",
      "  from ._conv import register_converters as _register_converters\n",
      "Using TensorFlow backend.\n"
     ]
    },
    {
     "data": {
      "text/html": [
       "<div>\n",
       "<style scoped>\n",
       "    .dataframe tbody tr th:only-of-type {\n",
       "        vertical-align: middle;\n",
       "    }\n",
       "\n",
       "    .dataframe tbody tr th {\n",
       "        vertical-align: top;\n",
       "    }\n",
       "\n",
       "    .dataframe thead th {\n",
       "        text-align: right;\n",
       "    }\n",
       "</style>\n",
       "<table border=\"1\" class=\"dataframe\">\n",
       "  <thead>\n",
       "    <tr style=\"text-align: right;\">\n",
       "      <th></th>\n",
       "      <th>accusation</th>\n",
       "      <th>death_penalty</th>\n",
       "      <th>fact</th>\n",
       "      <th>imprisonment</th>\n",
       "      <th>life_imprisonment</th>\n",
       "      <th>relevant_articles_label</th>\n",
       "      <th>fact_cut_wd</th>\n",
       "      <th>imp_label</th>\n",
       "    </tr>\n",
       "  </thead>\n",
       "  <tbody>\n",
       "    <tr>\n",
       "      <th>0</th>\n",
       "      <td>['盗窃']</td>\n",
       "      <td>False</td>\n",
       "      <td>公诉机关指控：2016年3月28日20时许，被告人颜某在本市洪山区马湖新村足球场马路边捡拾到...</td>\n",
       "      <td>4</td>\n",
       "      <td>False</td>\n",
       "      <td>['264']</td>\n",
       "      <td>公诉 机关 指控 被告人 某某 马湖 足球场 马路边 捡拾 被害人 某某 CHEPAIHAO...</td>\n",
       "      <td>6</td>\n",
       "    </tr>\n",
       "    <tr>\n",
       "      <th>1</th>\n",
       "      <td>['盗窃']</td>\n",
       "      <td>False</td>\n",
       "      <td>天津市静海县人民检察院指控，2014年5月13日上午8时许，被告人李xx在天津市静海县大邱庄...</td>\n",
       "      <td>0</td>\n",
       "      <td>False</td>\n",
       "      <td>['264']</td>\n",
       "      <td>人民检察院 指控 上午 被告人 某某 大邱庄 宾馆 227 房间 某某 配货站 趁该 配货站...</td>\n",
       "      <td>2</td>\n",
       "    </tr>\n",
       "    <tr>\n",
       "      <th>2</th>\n",
       "      <td>['强奸']</td>\n",
       "      <td>False</td>\n",
       "      <td>永顺县人民检察院指控，2014年1月11日，被告人李某某与彭某某（另案处理）在永顺县塔卧镇“...</td>\n",
       "      <td>144</td>\n",
       "      <td>False</td>\n",
       "      <td>['236']</td>\n",
       "      <td>人民检察院 指控 被告人 某某 某某 另案处理 宾馆 房间内 先后 强行 被害人 某某 发生...</td>\n",
       "      <td>21</td>\n",
       "    </tr>\n",
       "    <tr>\n",
       "      <th>3</th>\n",
       "      <td>['盗窃']</td>\n",
       "      <td>False</td>\n",
       "      <td>公诉机关起诉书指控：\\r\\n2016年11月17日凌晨1时许，被告人周某在本县武康街道营盘小...</td>\n",
       "      <td>6</td>\n",
       "      <td>False</td>\n",
       "      <td>['264']</td>\n",
       "      <td>公诉 机关 起诉书 指控 凌晨 被告人 某某 武康 街道 营盘 131 南侧 过道 采用 拉...</td>\n",
       "      <td>7</td>\n",
       "    </tr>\n",
       "    <tr>\n",
       "      <th>4</th>\n",
       "      <td>['故意伤害']</td>\n",
       "      <td>False</td>\n",
       "      <td>大名县人民检察院起诉书指控，2014年3月25日9时许，被告人张某在自家庄某处因故与本村席某...</td>\n",
       "      <td>21</td>\n",
       "      <td>False</td>\n",
       "      <td>['234']</td>\n",
       "      <td>人民检察院 起诉书 指控 被告人 某某 自家 某某 因故 某某 发生争执 引起 打架 打架 ...</td>\n",
       "      <td>12</td>\n",
       "    </tr>\n",
       "  </tbody>\n",
       "</table>\n",
       "</div>"
      ],
      "text/plain": [
       "  accusation  death_penalty  \\\n",
       "0     ['盗窃']          False   \n",
       "1     ['盗窃']          False   \n",
       "2     ['强奸']          False   \n",
       "3     ['盗窃']          False   \n",
       "4   ['故意伤害']          False   \n",
       "\n",
       "                                                fact  imprisonment  \\\n",
       "0  公诉机关指控：2016年3月28日20时许，被告人颜某在本市洪山区马湖新村足球场马路边捡拾到...             4   \n",
       "1  天津市静海县人民检察院指控，2014年5月13日上午8时许，被告人李xx在天津市静海县大邱庄...             0   \n",
       "2  永顺县人民检察院指控，2014年1月11日，被告人李某某与彭某某（另案处理）在永顺县塔卧镇“...           144   \n",
       "3  公诉机关起诉书指控：\\r\\n2016年11月17日凌晨1时许，被告人周某在本县武康街道营盘小...             6   \n",
       "4  大名县人民检察院起诉书指控，2014年3月25日9时许，被告人张某在自家庄某处因故与本村席某...            21   \n",
       "\n",
       "   life_imprisonment relevant_articles_label  \\\n",
       "0              False                 ['264']   \n",
       "1              False                 ['264']   \n",
       "2              False                 ['236']   \n",
       "3              False                 ['264']   \n",
       "4              False                 ['234']   \n",
       "\n",
       "                                         fact_cut_wd  imp_label  \n",
       "0  公诉 机关 指控 被告人 某某 马湖 足球场 马路边 捡拾 被害人 某某 CHEPAIHAO...          6  \n",
       "1  人民检察院 指控 上午 被告人 某某 大邱庄 宾馆 227 房间 某某 配货站 趁该 配货站...          2  \n",
       "2  人民检察院 指控 被告人 某某 某某 另案处理 宾馆 房间内 先后 强行 被害人 某某 发生...         21  \n",
       "3  公诉 机关 起诉书 指控 凌晨 被告人 某某 武康 街道 营盘 131 南侧 过道 采用 拉...          7  \n",
       "4  人民检察院 起诉书 指控 被告人 某某 自家 某某 因故 某某 发生争执 引起 打架 打架 ...         12  "
      ]
     },
     "execution_count": 1,
     "metadata": {},
     "output_type": "execute_result"
    }
   ],
   "source": [
    "import pandas as pd\n",
    "import os\n",
    "from judge_callback import  *\n",
    "os.environ[\"CUDA_VISIBLE_DEVICES\"] = \"1\"\n",
    "\n",
    "data=pd.read_csv('./csv/big_and_small_uniq.csv')\n",
    "data.head()"
   ]
  },
  {
   "cell_type": "code",
   "execution_count": 55,
   "metadata": {},
   "outputs": [],
   "source": [
    "from keras.layers import  Input,Embedding,Bidirectional,LSTM,GlobalMaxPool1D,GlobalAveragePooling1D,concatenate,Dense,Activation\n",
    "from keras.models import  Model\n",
    "from keras.layers import  Dropout,CuDNNLSTM,BatchNormalization\n",
    "max_features=200000\n",
    "maxlen=1000\n",
    "embed_size=300\n",
    "def lstm_class_time_model():\n",
    "    inp = Input(shape=(maxlen,))\n",
    "    x = Embedding(max_features, embed_size, trainable=True)(inp)\n",
    "    x = Bidirectional(CuDNNLSTM(100, return_sequences=True))(x)\n",
    "    p1= GlobalMaxPool1D()(x)\n",
    "    p2= GlobalAveragePooling1D()(x)\n",
    "\n",
    "\n",
    "    conc=concatenate([p1,p2])\n",
    "    fc1=Dense(256,activation='relu')(conc)\n",
    "    fc1=Dropout(0.2)(fc1)\n",
    "\n",
    "\n",
    "    fc2=Dense(128,activation='relu')(fc1)\n",
    "    fc2=Dropout(0.2)(fc2)\n",
    "    \n",
    "    fc2=BatchNormalization()(fc2)\n",
    "    \n",
    "    out=Dense(25,activation='softmax')(fc2)\n",
    "\n",
    "\n",
    "    model=Model(inp,out)\n",
    "    model.compile(loss='categorical_crossentropy',optimizer='adam',metrics=['accuracy'])\n",
    "    return model\n",
    "    \n",
    "    "
   ]
  },
  {
   "cell_type": "code",
   "execution_count": 56,
   "metadata": {},
   "outputs": [],
   "source": [
    "from keras.preprocessing.text import  Tokenizer\n",
    "from keras.preprocessing.sequence import  pad_sequences\n",
    "import os \n",
    "import pickle\n",
    "if os.path.exists(\"./model/Tokenizer.pkl\"):\n",
    "    with open('./model/Tokenizer.pkl','rb') as f:\n",
    "        tokenizer=pickle.load(f)\n",
    "else:\n",
    "    tokenizer=Tokenizer(num_words=max_features)\n",
    "    tokenizer.fit_on_texts(data['fact_cut_wd'].values)\n",
    "    with open(\"./model/Tokenizer.pkl\",'wb') as f:\n",
    "        pickle.dump(tokenizer,f)\n",
    "        \n",
    "        \n",
    "    \n",
    "\n",
    "from sklearn.utils import  shuffle\n",
    "from keras.preprocessing.text import  Tokenizer\n",
    "from keras.preprocessing.sequence import  pad_sequences\n",
    "data=shuffle(data)\n",
    "\n",
    "train_data=data\n",
    "\n",
    "train_data_text_list=train_data['fact_cut_wd'].values\n",
    "train_data_seq=tokenizer.texts_to_sequences(train_data_text_list)\n",
    "train_x=pad_sequences(train_data_seq,maxlen)"
   ]
  },
  {
   "cell_type": "code",
   "execution_count": 57,
   "metadata": {},
   "outputs": [],
   "source": [
    "from keras.utils import  to_categorical\n",
    "\n",
    "train_y=train_data['imp_label'].values\n",
    "train_y=to_categorical(train_y.reshape(-1,1))\n",
    "\n"
   ]
  },
  {
   "cell_type": "code",
   "execution_count": 58,
   "metadata": {},
   "outputs": [
    {
     "name": "stdout",
     "output_type": "stream",
     "text": [
      "(1652133, 25)\n"
     ]
    }
   ],
   "source": [
    "print(train_y.shape)"
   ]
  },
  {
   "cell_type": "code",
   "execution_count": 59,
   "metadata": {},
   "outputs": [],
   "source": [
    "# from sklearn.cross_validation import  train_test_split\n",
    "\n",
    "# x_tr,x_te,y_tr,y_te=train_test_split(train_x,train_y,test_size=0.02)"
   ]
  },
  {
   "cell_type": "code",
   "execution_count": 9,
   "metadata": {},
   "outputs": [],
   "source": [
    "# model=lstm_class_time_model()"
   ]
  },
  {
   "cell_type": "code",
   "execution_count": 10,
   "metadata": {},
   "outputs": [
    {
     "name": "stdout",
     "output_type": "stream",
     "text": [
      "Train on 1619090 samples, validate on 33043 samples\n",
      "Epoch 1/4\n",
      "1619090/1619090 [==============================] - 1606s 992us/step - loss: 1.8349 - acc: 0.3543 - val_loss: 1.7218 - val_acc: 0.3811\n",
      "Task3 - epoch:1 - score:0.323548 \n",
      "Epoch 2/4\n",
      "1619090/1619090 [==============================] - 1605s 992us/step - loss: 1.6677 - acc: 0.3980 - val_loss: 1.6876 - val_acc: 0.3921\n",
      "Task3 - epoch:2 - score:0.316333 \n",
      "Epoch 3/4\n",
      "1619090/1619090 [==============================] - 1602s 989us/step - loss: 1.5357 - acc: 0.4391 - val_loss: 1.7367 - val_acc: 0.3864\n",
      "Task3 - epoch:3 - score:0.314203 \n"
     ]
    },
    {
     "data": {
      "text/plain": [
       "<keras.callbacks.History at 0x7fc658af2470>"
      ]
     },
     "execution_count": 10,
     "metadata": {},
     "output_type": "execute_result"
    }
   ],
   "source": [
    "\n",
    "# from keras.callbacks import  EarlyStopping\n",
    "\n",
    "\n",
    "# model.fit(x_tr,y_tr,epochs=2,batch_size=512,validation_data=(x_te,y_te),callbacks=[Task3_Judge(validation_data=[x_te,y_val]),\n",
    "#     EarlyStopping() ])"
   ]
  },
  {
   "cell_type": "code",
   "execution_count": 69,
   "metadata": {},
   "outputs": [],
   "source": [
    "def lstm_with_acc_time_model():\n",
    "    inp = Input(shape=(maxlen,))\n",
    "    x = Embedding(max_features, embed_size, trainable=True)(inp)\n",
    "    x = Bidirectional(CuDNNLSTM(100, return_sequences=True))(x)\n",
    "    p1= GlobalMaxPool1D()(x)\n",
    "    p2= GlobalAveragePooling1D()(x)\n",
    "    \n",
    "    acc_input=Input(shape=(202,))\n",
    "\n",
    "\n",
    "    conc=concatenate([p1,p2,acc_input])\n",
    "    conc=BatchNormalization()(conc)\n",
    "    fc1=Dense(256,activation='relu')(conc)\n",
    "    fc1=Dropout(0.2)(fc1)\n",
    "\n",
    "\n",
    "    fc2=Dense(128,activation='relu')(fc1)\n",
    "    fc2=Dropout(0.2)(fc2)\n",
    "    \n",
    "    fc2=BatchNormalization()(fc2)\n",
    "    \n",
    "    out=Dense(25,activation='softmax')(fc2)\n",
    "\n",
    "\n",
    "    model=Model([inp,acc_input],[out])\n",
    "    model.compile(loss='categorical_crossentropy',optimizer='adam',metrics=['accuracy'])\n",
    "    return model\n",
    "    \n",
    "    \n",
    "    "
   ]
  },
  {
   "cell_type": "code",
   "execution_count": 62,
   "metadata": {},
   "outputs": [
    {
     "data": {
      "text/plain": [
       "202"
      ]
     },
     "execution_count": 62,
     "metadata": {},
     "output_type": "execute_result"
    }
   ],
   "source": [
    "with open(\"./accu.txt\",'r')  as f:\n",
    "    acc_dict={}\n",
    "    count=0\n",
    "    for i in f:\n",
    "        i=i.replace(\" \",'')\n",
    "        i=i.replace(\"\\n\",'')\n",
    "        acc_dict[i]=count\n",
    "        count+=1\n",
    "len(acc_dict)"
   ]
  },
  {
   "cell_type": "code",
   "execution_count": 63,
   "metadata": {},
   "outputs": [
    {
     "data": {
      "text/plain": [
       "[189, 62]"
      ]
     },
     "execution_count": 63,
     "metadata": {},
     "output_type": "execute_result"
    }
   ],
   "source": [
    "def acc_2_num(x):\n",
    "    x=x[1:-1]\n",
    "    x=x.replace(\" \",'')\n",
    "    x=x.split(',')\n",
    "    num=[]\n",
    "    for i in x:\n",
    "        i=i[1:-1]\n",
    "        num.append(acc_dict[i])\n",
    "    return num\n",
    "        \n",
    "acc_2_num(str(['盗窃','非法行医']))"
   ]
  },
  {
   "cell_type": "code",
   "execution_count": 64,
   "metadata": {},
   "outputs": [],
   "source": [
    "train_data['acc_label_list']=train_data['accusation'].map(lambda x:acc_2_num(x))"
   ]
  },
  {
   "cell_type": "code",
   "execution_count": 65,
   "metadata": {},
   "outputs": [],
   "source": [
    "from sklearn.preprocessing import  MultiLabelBinarizer\n",
    "\n",
    "mlb=MultiLabelBinarizer()\n"
   ]
  },
  {
   "cell_type": "code",
   "execution_count": 66,
   "metadata": {},
   "outputs": [],
   "source": [
    "train_x_acc_label=mlb.fit_transform(train_data['acc_label_list'])"
   ]
  },
  {
   "cell_type": "code",
   "execution_count": 67,
   "metadata": {},
   "outputs": [
    {
     "data": {
      "text/plain": [
       "array([0, 0, 0, 0, 0, 0, 0, 0, 0, 0, 0, 0, 0, 0, 0, 0, 0, 0, 0, 0, 0, 0,\n",
       "       0, 0, 0, 0, 0, 0, 0, 0, 0, 0, 0, 0, 0, 0, 0, 0, 0, 0, 0, 0, 0, 0,\n",
       "       0, 0, 0, 0, 0, 0, 0, 0, 0, 0, 0, 0, 0, 0, 0, 0, 0, 0, 0, 0, 0, 0,\n",
       "       0, 0, 0, 0, 0, 0, 0, 0, 0, 0, 0, 0, 0, 0, 0, 0, 0, 0, 0, 0, 0, 0,\n",
       "       0, 0, 0, 0, 0, 0, 0, 0, 0, 0, 0, 0, 0, 0, 0, 0, 0, 0, 0, 0, 0, 0,\n",
       "       0, 0, 0, 0, 0, 0, 0, 0, 0, 0, 0, 0, 0, 0, 0, 0, 0, 0, 0, 0, 0, 0,\n",
       "       0, 0, 0, 0, 0, 0, 0, 0, 0, 0, 0, 0, 0, 0, 0, 0, 0, 0, 0, 0, 1, 0,\n",
       "       0, 0, 0, 0, 0, 0, 0, 0, 0, 0, 0, 0, 0, 0, 0, 0, 0, 0, 0, 0, 0, 0,\n",
       "       0, 0, 0, 0, 0, 0, 0, 0, 0, 0, 0, 0, 0, 0, 0, 0, 0, 0, 0, 0, 0, 0,\n",
       "       0, 0, 0, 0])"
      ]
     },
     "execution_count": 67,
     "metadata": {},
     "output_type": "execute_result"
    }
   ],
   "source": [
    "train_x_acc_label[5]"
   ]
  },
  {
   "cell_type": "code",
   "execution_count": 70,
   "metadata": {},
   "outputs": [],
   "source": [
    "model=lstm_with_acc_time_model()"
   ]
  },
  {
   "cell_type": "code",
   "execution_count": null,
   "metadata": {},
   "outputs": [
    {
     "name": "stdout",
     "output_type": "stream",
     "text": [
      "Train on 1619090 samples, validate on 33043 samples\n",
      "Epoch 1/3\n",
      " 982016/1619090 [=================>............] - ETA: 10:30 - loss: 1.8491 - acc: 0.3517"
     ]
    }
   ],
   "source": [
    "model.fit([train_x,train_x_acc_label],train_y,epochs=3,batch_size=512,validation_split=0.02)"
   ]
  },
  {
   "cell_type": "code",
   "execution_count": null,
   "metadata": {},
   "outputs": [],
   "source": []
  }
 ],
 "metadata": {
  "kernelspec": {
   "display_name": "Python 3",
   "language": "python",
   "name": "python3"
  },
  "language_info": {
   "codemirror_mode": {
    "name": "ipython",
    "version": 3
   },
   "file_extension": ".py",
   "mimetype": "text/x-python",
   "name": "python",
   "nbconvert_exporter": "python",
   "pygments_lexer": "ipython3",
   "version": "3.5.2"
  }
 },
 "nbformat": 4,
 "nbformat_minor": 2
}
