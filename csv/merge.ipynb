{
 "cells": [
  {
   "cell_type": "code",
   "execution_count": 2,
   "metadata": {},
   "outputs": [
    {
     "data": {
      "text/html": [
       "<div>\n",
       "<style scoped>\n",
       "    .dataframe tbody tr th:only-of-type {\n",
       "        vertical-align: middle;\n",
       "    }\n",
       "\n",
       "    .dataframe tbody tr th {\n",
       "        vertical-align: top;\n",
       "    }\n",
       "\n",
       "    .dataframe thead th {\n",
       "        text-align: right;\n",
       "    }\n",
       "</style>\n",
       "<table border=\"1\" class=\"dataframe\">\n",
       "  <thead>\n",
       "    <tr style=\"text-align: right;\">\n",
       "      <th></th>\n",
       "      <th>accusation</th>\n",
       "      <th>death_penalty</th>\n",
       "      <th>fact</th>\n",
       "      <th>imprisonment</th>\n",
       "      <th>life_imprisonment</th>\n",
       "      <th>relevant_articles_label</th>\n",
       "      <th>fact_cut_wd</th>\n",
       "      <th>imp_label</th>\n",
       "    </tr>\n",
       "  </thead>\n",
       "  <tbody>\n",
       "    <tr>\n",
       "      <th>0</th>\n",
       "      <td>['巨额财产来源不明']</td>\n",
       "      <td>False</td>\n",
       "      <td>4、2012年9月份,被告人杨泰献利用磁县财政局采购办负责人职务上的便利,在河北天强农化经营...</td>\n",
       "      <td>28</td>\n",
       "      <td>False</td>\n",
       "      <td>['385', '386', '383', '225', '233']</td>\n",
       "      <td>4 被告人 杨泰献 利用 财政局 采购 负责人 职务 便利 河北 天强 农化 经营 有限公司...</td>\n",
       "      <td>13</td>\n",
       "    </tr>\n",
       "    <tr>\n",
       "      <th>1</th>\n",
       "      <td>['组织、领导、参加黑社会性质组织']</td>\n",
       "      <td>False</td>\n",
       "      <td>原一审法院审理查明:一、组织、领导、参加黑社会性质组织罪。从上世纪90年代以来,江建荣伙同江...</td>\n",
       "      <td>72</td>\n",
       "      <td>False</td>\n",
       "      <td>['245', '233']</td>\n",
       "      <td>一审 法院 审理 查明 组织 领导 参加 黑社会 性质 组织罪 世纪 以来 江建荣 伙同 江...</td>\n",
       "      <td>18</td>\n",
       "    </tr>\n",
       "    <tr>\n",
       "      <th>2</th>\n",
       "      <td>['高利转贷']</td>\n",
       "      <td>False</td>\n",
       "      <td>武平县人民检察院指控:2010年3月30日至2014年5月12日,被告人朱世民先后向中国工商...</td>\n",
       "      <td>16</td>\n",
       "      <td>False</td>\n",
       "      <td>['175']</td>\n",
       "      <td>人民检察院 指控 被告人 世民 先后 中国工商银行 股份 有限公司 漳平 支行 以下 简称 ...</td>\n",
       "      <td>11</td>\n",
       "    </tr>\n",
       "    <tr>\n",
       "      <th>3</th>\n",
       "      <td>['高利转贷']</td>\n",
       "      <td>False</td>\n",
       "      <td>湖北省黄梅县人民检察院指控:自2012年以来,林某1多次在湖北银行黄石市黄金山支行、黄石市农...</td>\n",
       "      <td>6</td>\n",
       "      <td>False</td>\n",
       "      <td>['175']</td>\n",
       "      <td>湖北省 人民检察院 指控 以来 某某 多次 湖北 银行 黄金山 支行 商业银行 黄金山 支行...</td>\n",
       "      <td>7</td>\n",
       "    </tr>\n",
       "    <tr>\n",
       "      <th>4</th>\n",
       "      <td>['高利转贷']</td>\n",
       "      <td>False</td>\n",
       "      <td>湘乡市人民检察院指控,2011年10月31日,被告人欧某以投资湖南穗湘农业发展有限公司缺少资...</td>\n",
       "      <td>6</td>\n",
       "      <td>False</td>\n",
       "      <td>['175']</td>\n",
       "      <td>人民检察院 指控 被告人 某某 投资 湖南 农业 发展 有限公司 缺少 资金 合作社 昆仑 ...</td>\n",
       "      <td>7</td>\n",
       "    </tr>\n",
       "  </tbody>\n",
       "</table>\n",
       "</div>"
      ],
      "text/plain": [
       "            accusation  death_penalty  \\\n",
       "0         ['巨额财产来源不明']          False   \n",
       "1  ['组织、领导、参加黑社会性质组织']          False   \n",
       "2             ['高利转贷']          False   \n",
       "3             ['高利转贷']          False   \n",
       "4             ['高利转贷']          False   \n",
       "\n",
       "                                                fact  imprisonment  \\\n",
       "0  4、2012年9月份,被告人杨泰献利用磁县财政局采购办负责人职务上的便利,在河北天强农化经营...            28   \n",
       "1  原一审法院审理查明:一、组织、领导、参加黑社会性质组织罪。从上世纪90年代以来,江建荣伙同江...            72   \n",
       "2  武平县人民检察院指控:2010年3月30日至2014年5月12日,被告人朱世民先后向中国工商...            16   \n",
       "3  湖北省黄梅县人民检察院指控:自2012年以来,林某1多次在湖北银行黄石市黄金山支行、黄石市农...             6   \n",
       "4  湘乡市人民检察院指控,2011年10月31日,被告人欧某以投资湖南穗湘农业发展有限公司缺少资...             6   \n",
       "\n",
       "   life_imprisonment              relevant_articles_label  \\\n",
       "0              False  ['385', '386', '383', '225', '233']   \n",
       "1              False                       ['245', '233']   \n",
       "2              False                              ['175']   \n",
       "3              False                              ['175']   \n",
       "4              False                              ['175']   \n",
       "\n",
       "                                         fact_cut_wd  imp_label  \n",
       "0  4 被告人 杨泰献 利用 财政局 采购 负责人 职务 便利 河北 天强 农化 经营 有限公司...         13  \n",
       "1  一审 法院 审理 查明 组织 领导 参加 黑社会 性质 组织罪 世纪 以来 江建荣 伙同 江...         18  \n",
       "2  人民检察院 指控 被告人 世民 先后 中国工商银行 股份 有限公司 漳平 支行 以下 简称 ...         11  \n",
       "3  湖北省 人民检察院 指控 以来 某某 多次 湖北 银行 黄金山 支行 商业银行 黄金山 支行...          7  \n",
       "4  人民检察院 指控 被告人 某某 投资 湖南 农业 发展 有限公司 缺少 资金 合作社 昆仑 ...          7  "
      ]
     },
     "execution_count": 2,
     "metadata": {},
     "output_type": "execute_result"
    }
   ],
   "source": [
    "import pandas as pd\n",
    "\n",
    "data=pd.read_csv(\"./data0711_all.csv\")\n",
    "data.head()"
   ]
  },
  {
   "cell_type": "code",
   "execution_count": 3,
   "metadata": {},
   "outputs": [
    {
     "name": "stdout",
     "output_type": "stream",
     "text": [
      "<class 'pandas.core.frame.DataFrame'>\n",
      "RangeIndex: 494025 entries, 0 to 494024\n",
      "Data columns (total 8 columns):\n",
      "accusation                 494025 non-null object\n",
      "death_penalty              494025 non-null bool\n",
      "fact                       494025 non-null object\n",
      "imprisonment               494025 non-null int64\n",
      "life_imprisonment          494025 non-null bool\n",
      "relevant_articles_label    494025 non-null object\n",
      "fact_cut_wd                494025 non-null object\n",
      "imp_label                  494025 non-null int64\n",
      "dtypes: bool(2), int64(2), object(4)\n",
      "memory usage: 23.6+ MB\n"
     ]
    }
   ],
   "source": [
    "data.info()"
   ]
  },
  {
   "cell_type": "code",
   "execution_count": 4,
   "metadata": {},
   "outputs": [
    {
     "data": {
      "text/plain": [
       "<matplotlib.axes._subplots.AxesSubplot at 0x7f760b20e550>"
      ]
     },
     "execution_count": 4,
     "metadata": {},
     "output_type": "execute_result"
    },
    {
     "data": {
      "image/png": "[encoded data removed]",
      "text/plain": [
       "<matplotlib.figure.Figure at 0x7f76173b8860>"
      ]
     },
     "metadata": {},
     "output_type": "display_data"
    }
   ],
   "source": [
    "%matplotlib inline\n",
    "import seaborn as sns\n",
    "\n",
    "sns.distplot(data['imprisonment'])"
   ]
  },
  {
   "cell_type": "code",
   "execution_count": 6,
   "metadata": {},
   "outputs": [
    {
     "data": {
      "text/plain": [
       "<matplotlib.axes._subplots.AxesSubplot at 0x7fde0c644748>"
      ]
     },
     "execution_count": 6,
     "metadata": {},
     "output_type": "execute_result"
    },
    {
     "data": {
      "image/png": "[encoded data removed]",
      "text/plain": [
       "<matplotlib.figure.Figure at 0x7fde0dce4c50>"
      ]
     },
     "metadata": {},
     "output_type": "display_data"
    }
   ],
   "source": [
    "big=pd.read_csv(\"./cail2018_big.csv\")\n",
    "sns.distplot(big['imprisonment'])"
   ]
  },
  {
   "cell_type": "code",
   "execution_count": null,
   "metadata": {},
   "outputs": [],
   "source": []
  }
 ],
 "metadata": {
  "kernelspec": {
   "display_name": "Python 3",
   "language": "python",
   "name": "python3"
  },
  "language_info": {
   "codemirror_mode": {
    "name": "ipython",
    "version": 3
   },
   "file_extension": ".py",
   "mimetype": "text/x-python",
   "name": "python",
   "nbconvert_exporter": "python",
   "pygments_lexer": "ipython3",
   "version": "3.5.2"
  }
 },
 "nbformat": 4,
 "nbformat_minor": 2
}
