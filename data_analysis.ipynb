{
 "cells": [
  {
   "cell_type": "code",
   "execution_count": 64,
   "metadata": {
    "scrolled": true
   },
   "outputs": [
    {
     "data": {
      "text/html": [
       "<div>\n",
       "<style scoped>\n",
       "    .dataframe tbody tr th:only-of-type {\n",
       "        vertical-align: middle;\n",
       "    }\n",
       "\n",
       "    .dataframe tbody tr th {\n",
       "        vertical-align: top;\n",
       "    }\n",
       "\n",
       "    .dataframe thead th {\n",
       "        text-align: right;\n",
       "    }\n",
       "</style>\n",
       "<table border=\"1\" class=\"dataframe\">\n",
       "  <thead>\n",
       "    <tr style=\"text-align: right;\">\n",
       "      <th></th>\n",
       "      <th>accusation</th>\n",
       "      <th>death_penalty</th>\n",
       "      <th>fact</th>\n",
       "      <th>imprisonment</th>\n",
       "      <th>life_imprisonment</th>\n",
       "      <th>relevant_articles_label</th>\n",
       "      <th>fact_cut_wd</th>\n",
       "    </tr>\n",
       "  </thead>\n",
       "  <tbody>\n",
       "    <tr>\n",
       "      <th>0</th>\n",
       "      <td>['走私、贩卖、运输、制造毒品']</td>\n",
       "      <td>False</td>\n",
       "      <td>1、2012年12月7日至2013年1月10日，经审理查明：被告人尤某在定边县新华南街其家中...</td>\n",
       "      <td>36</td>\n",
       "      <td>False</td>\n",
       "      <td>['347']</td>\n",
       "      <td>审理 查明 被告人 某某 新华 南街 家中 吸毒 人员 某某 贩卖毒品 海洛因 五次 每次 ...</td>\n",
       "    </tr>\n",
       "    <tr>\n",
       "      <th>1</th>\n",
       "      <td>['交通肇事']</td>\n",
       "      <td>False</td>\n",
       "      <td>14、调解协议、谅解书及收条证实，二审期间，王某与被害方达成调解协议，已支付对方35000元...</td>\n",
       "      <td>6</td>\n",
       "      <td>False</td>\n",
       "      <td>['133']</td>\n",
       "      <td>14 调解 协议 谅解 书及 收条 证实 二审 期间 某某 被害 达成 调解 协议 支付 对...</td>\n",
       "    </tr>\n",
       "    <tr>\n",
       "      <th>2</th>\n",
       "      <td>['走私、贩卖、运输、制造毒品']</td>\n",
       "      <td>False</td>\n",
       "      <td>1、桂某某派出所二审期间出具的情况说明，证明2013年3月28日熊某被抓获后协助将上线贩毒人...</td>\n",
       "      <td>8</td>\n",
       "      <td>False</td>\n",
       "      <td>['347']</td>\n",
       "      <td>某某 派出所 二审 期间 出具 情况 说明 证明 某某 抓获 协助 上线 贩毒 人员 某某 ...</td>\n",
       "    </tr>\n",
       "    <tr>\n",
       "      <th>3</th>\n",
       "      <td>['挪用资金']</td>\n",
       "      <td>False</td>\n",
       "      <td>1、樟树市人民检察院起诉书指控：2013年9月至2014年10月被告人吁海某担任江西仁济医药...</td>\n",
       "      <td>72</td>\n",
       "      <td>False</td>\n",
       "      <td>['272']</td>\n",
       "      <td>人民检察院 起诉书 指控 被告人 某某 担任 江西 仁济 医药 有限公司 南昌 业务员 期间...</td>\n",
       "    </tr>\n",
       "    <tr>\n",
       "      <th>4</th>\n",
       "      <td>['盗窃']</td>\n",
       "      <td>False</td>\n",
       "      <td>1、樟树市人民检察院起诉书指控：2014年9月15日下午15时许，本市洲上乡香积街电焊店老板...</td>\n",
       "      <td>9</td>\n",
       "      <td>False</td>\n",
       "      <td>['264']</td>\n",
       "      <td>人民检察院 起诉书 指控 下午 香积 电焊 店老板 某某 雇佣 被告人 某某 乡田段 陈家 ...</td>\n",
       "    </tr>\n",
       "  </tbody>\n",
       "</table>\n",
       "</div>"
      ],
      "text/plain": [
       "          accusation  death_penalty  \\\n",
       "0  ['走私、贩卖、运输、制造毒品']          False   \n",
       "1           ['交通肇事']          False   \n",
       "2  ['走私、贩卖、运输、制造毒品']          False   \n",
       "3           ['挪用资金']          False   \n",
       "4             ['盗窃']          False   \n",
       "\n",
       "                                                fact  imprisonment  \\\n",
       "0  1、2012年12月7日至2013年1月10日，经审理查明：被告人尤某在定边县新华南街其家中...            36   \n",
       "1  14、调解协议、谅解书及收条证实，二审期间，王某与被害方达成调解协议，已支付对方35000元...             6   \n",
       "2  1、桂某某派出所二审期间出具的情况说明，证明2013年3月28日熊某被抓获后协助将上线贩毒人...             8   \n",
       "3  1、樟树市人民检察院起诉书指控：2013年9月至2014年10月被告人吁海某担任江西仁济医药...            72   \n",
       "4  1、樟树市人民检察院起诉书指控：2014年9月15日下午15时许，本市洲上乡香积街电焊店老板...             9   \n",
       "\n",
       "   life_imprisonment relevant_articles_label  \\\n",
       "0              False                 ['347']   \n",
       "1              False                 ['133']   \n",
       "2              False                 ['347']   \n",
       "3              False                 ['272']   \n",
       "4              False                 ['264']   \n",
       "\n",
       "                                         fact_cut_wd  \n",
       "0  审理 查明 被告人 某某 新华 南街 家中 吸毒 人员 某某 贩卖毒品 海洛因 五次 每次 ...  \n",
       "1  14 调解 协议 谅解 书及 收条 证实 二审 期间 某某 被害 达成 调解 协议 支付 对...  \n",
       "2  某某 派出所 二审 期间 出具 情况 说明 证明 某某 抓获 协助 上线 贩毒 人员 某某 ...  \n",
       "3  人民检察院 起诉书 指控 被告人 某某 担任 江西 仁济 医药 有限公司 南昌 业务员 期间...  \n",
       "4  人民检察院 起诉书 指控 下午 香积 电焊 店老板 某某 雇佣 被告人 某某 乡田段 陈家 ...  "
      ]
     },
     "execution_count": 64,
     "metadata": {},
     "output_type": "execute_result"
    }
   ],
   "source": [
    "\n",
    "\n",
    "import pandas  as pd\n",
    "data=pd.read_csv(\"./csv/Big.csv\")\n",
    "data.head()\n",
    "\n"
   ]
  },
  {
   "cell_type": "code",
   "execution_count": 2,
   "metadata": {},
   "outputs": [],
   "source": [
    "from math import log\n",
    "from math import exp"
   ]
  },
  {
   "cell_type": "code",
   "execution_count": 3,
   "metadata": {},
   "outputs": [
    {
     "name": "stdout",
     "output_type": "stream",
     "text": [
      "[[246, 300], [201, 245], [164, 200], [134, 163], [109, 133], [89, 108], [72, 88], [58, 71], [47, 57], [38, 46], [31, 37], [25, 30], [20, 24], [16, 19], [13, 15], [10, 12], [8, 9], [6, 7], [4, 5], [3, 3], [2, 2], [1, 1], [0, 0], [-1, -1], [-2, -2]]\n",
      "25\n"
     ]
    }
   ],
   "source": [
    "end=300\n",
    "\n",
    "class_cut_range=[]\n",
    "\n",
    "\n",
    "\n",
    "start=int(exp(log(end+1)-0.2))-1\n",
    "\n",
    "\n",
    "while start>=0:\n",
    "\n",
    "    \n",
    "    info=[start+1,end]\n",
    "    \n",
    "    class_cut_range.append(info)\n",
    "#     print('{} --->{}'.format(info,round((start+1+end)/2)))\n",
    "    end=int(start)\n",
    "    start=int(exp(log(end+1)-0.2))-1\n",
    "    \n",
    "class_cut_range.append([0,0])\n",
    "class_cut_range.append([-1,-1])\n",
    "class_cut_range.append([-2,-2])\n",
    "\n",
    "print(class_cut_range)\n",
    "print(len(class_cut_range))\n"
   ]
  },
  {
   "cell_type": "code",
   "execution_count": 4,
   "metadata": {},
   "outputs": [
    {
     "name": "stdout",
     "output_type": "stream",
     "text": [
      "[-2, -2] 0\n",
      "[-1, -1] 1\n",
      "[0, 0] 2\n",
      "[1, 1] 3\n",
      "[2, 2] 4\n",
      "[3, 3] 5\n",
      "[4, 5] 6\n",
      "[6, 7] 7\n",
      "[8, 9] 8\n",
      "[10, 12] 9\n",
      "[13, 15] 10\n",
      "[16, 19] 11\n",
      "[20, 24] 12\n",
      "[25, 30] 13\n",
      "[31, 37] 14\n",
      "[38, 46] 15\n",
      "[47, 57] 16\n",
      "[58, 71] 17\n",
      "[72, 88] 18\n",
      "[89, 108] 19\n",
      "[109, 133] 20\n",
      "[134, 163] 21\n",
      "[164, 200] 22\n",
      "[201, 245] 23\n",
      "[246, 300] 24\n",
      "{0: -2.0, 1: -1.0, 2: 0.0, 3: 1.0, 4: 2.0, 5: 3.0, 6: 4.5, 7: 6.5, 8: 8.5, 9: 11.0, 10: 14.0, 11: 17.5, 12: 22.0, 13: 27.5, 14: 34.0, 15: 42.0, 16: 52.0, 17: 64.5, 18: 80.0, 19: 98.5, 20: 121.0, 21: 148.5, 22: 182.0, 23: 223.0, 24: 273.0}\n"
     ]
    }
   ],
   "source": [
    "imp_dict={}\n",
    "\n",
    "start=0\n",
    "\n",
    "class_2_imp={}\n",
    "class_2_imp[0]=-2\n",
    "class_2_imp[1]=-1\n",
    "class_2_thr={}\n",
    "\n",
    "class_2_thr[0]='[-2]'\n",
    "class_2_thr[1]='[-1]'\n",
    "\n",
    "\n",
    "\n",
    "for i in  range(1,len(class_cut_range)+1):\n",
    "    s=class_cut_range[-i]\n",
    "    print(s,start)\n",
    "    imp_dict[str(s)]=start\n",
    "    class_2_imp[start]=((s[0]+s[1])/2)\n",
    "    start+=1\n",
    "    \n",
    "# class_2_imp[24]=246\n",
    "# class_2_imp[23]=201\n",
    "# class_2_imp[22]=164\n",
    "# class_2_imp[21]=134\n",
    "# class_2_imp[20]=109\n",
    "\n",
    "\n",
    "print(class_2_imp)\n"
   ]
  },
  {
   "cell_type": "code",
   "execution_count": 61,
   "metadata": {},
   "outputs": [
    {
     "data": {
      "text/plain": [
       "9     268483\n",
       "7     263668\n",
       "6     157194\n",
       "8     143249\n",
       "3     132395\n",
       "4     120904\n",
       "5      97334\n",
       "14     94850\n",
       "11     79292\n",
       "12     69032\n",
       "2      56642\n",
       "10     53730\n",
       "15     31583\n",
       "16     28943\n",
       "13     25675\n",
       "17     20904\n",
       "18     17028\n",
       "19     12317\n",
       "20     12159\n",
       "22      9487\n",
       "21      7612\n",
       "1       5173\n",
       "0       2396\n",
       "23       782\n",
       "24        24\n",
       "Name: imp_label, dtype: int64"
      ]
     },
     "execution_count": 61,
     "metadata": {},
     "output_type": "execute_result"
    }
   ],
   "source": [
    "data['imp_label'].value_counts()"
   ]
  },
  {
   "cell_type": "code",
   "execution_count": 5,
   "metadata": {},
   "outputs": [],
   "source": [
    "import pickle\n",
    "with open(\"imp_class.dict\",'wb') as f:\n",
    "    pickle.dump(imp_dict,f)"
   ]
  },
  {
   "cell_type": "code",
   "execution_count": 6,
   "metadata": {},
   "outputs": [],
   "source": [
    "with open(\"class_2_imp.dict\",'wb') as f:\n",
    "    pickle.dump(class_2_imp,f)"
   ]
  },
  {
   "cell_type": "code",
   "execution_count": null,
   "metadata": {},
   "outputs": [],
   "source": []
  }
 ],
 "metadata": {
  "kernelspec": {
   "display_name": "Python 3",
   "language": "python",
   "name": "python3"
  },
  "language_info": {
   "codemirror_mode": {
    "name": "ipython",
    "version": 3
   },
   "file_extension": ".py",
   "mimetype": "text/x-python",
   "name": "python",
   "nbconvert_exporter": "python",
   "pygments_lexer": "ipython3",
   "version": "3.5.2"
  }
 },
 "nbformat": 4,
 "nbformat_minor": 2
}
