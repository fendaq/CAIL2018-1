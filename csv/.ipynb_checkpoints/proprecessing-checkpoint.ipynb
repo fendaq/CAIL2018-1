{
 "cells": [
  {
   "cell_type": "code",
   "execution_count": 15,
   "metadata": {},
   "outputs": [],
   "source": [
    "import re\n",
    "import jieba\n",
    "def preprocessing_fact(text):\n",
    "    #just keep wd\n",
    "    text = text.replace(\" \",\"\")\n",
    "    text = re.sub(r\"\\d*年\", \"\", text)\n",
    "    text = re.sub(r'\\d*月','',text)\n",
    "    text = re.sub(r'\\d*日','',text)\n",
    "    text = re.sub(r'\\d*时','',text)\n",
    "    text = re.sub(r\"\\d*分\", \"\", text)\n",
    "    text = re.sub(r\"\\r\\n\", \"\", text)\n",
    "    text = re.sub(r\"\\.\\d+\",\"\",text)\n",
    "    text = re.sub(r\".\\d某\",\"某某\",text)\n",
    "    text = re.sub(r\".某\\d\",\"某某\",text)\n",
    "    text = re.sub(r'万.','万元',text)\n",
    "    # g\n",
    "    text=re.sub(r'(?<=\\d)g','克',text)\n",
    "    #inphone规整\n",
    "    text = re.sub(r'inphone\\d?[a-zA-Z]?','inphone',text)\n",
    "    #手机号码的规整\n",
    "    text = re.sub(r'\\d+×+\\d+','SJHAO',text)\n",
    " \n",
    "    \n",
    "    #车牌规整\n",
    "    text = re.sub(r'[a-wy-zA-WY-Z]+\\d?(×|x|X)+','CHEPAIHAO',text)\n",
    "    text = re.sub(r'[a-wy-zA-WY-Z]+\\d+[a-zA-Z]?','CHEPAIHAO',text)\n",
    "    \n",
    "    \n",
    "    #jieba无法shibie mg/ml需要添加自定义字典\n",
    "    jieba.add_word('mg')\n",
    "    jieba.add_word('kg')\n",
    "    jieba.add_word('ml')\n",
    "    jieba.add_word('iPhone')\n",
    "    \n",
    "    \n",
    "    ch2num={}\n",
    "    ch2num['一']=1\n",
    "    ch2num['二']=2\n",
    "    ch2num['三']=3\n",
    "    ch2num['四']=4\n",
    "    ch2num['五']=5\n",
    "    ch2num['六']=6\n",
    "    ch2num['七']=7\n",
    "    ch2num['八']=8\n",
    "    ch2num['九']=9\n",
    "\n",
    "    text=[i for i in jieba.lcut(text)]\n",
    "    text_len=len(text)\n",
    "    normal_words=['市','县','镇','村','区','街道']\n",
    "    for  i  in  range(text_len-1):\n",
    "        \n",
    "        #对地区规则化\n",
    "        for j in  normal_words:\n",
    "            if j in  text[i]:\n",
    "                text[i]=j\n",
    "                \n",
    "        #人名规则化\n",
    "        \n",
    "        if '某' in text[i]:\n",
    "            text[i]='某某'\n",
    "            \n",
    "        if len(text[i])==1 and  '某' in text[i+1]:\n",
    "            text[i]=''\n",
    "            \n",
    "        \n",
    "        if 'x' in  text[i+1] and len(text[i])==1:\n",
    "            text[i]='某某'\n",
    "            text[i+1]=''\n",
    "        \n",
    "        \n",
    "        key_wd=['万元','元','美元','克','mg','kg','千克','公斤','斤']\n",
    "        \n",
    "        \n",
    "        num_thr_list=[5,10,15,30,50,70,100,300,500,700,1000,3000,5000,7000,10000,30000,50000,70000,100000,300000,500000,700000,1000000,3000000,\n",
    "                      5000000]\n",
    "    \n",
    "    \n",
    "                \n",
    "        if text[i+1] in key_wd and text[i].isdigit():\n",
    "            text[i]=str(text[i][0])+\"0\"*(len(text[i])-1)\n",
    "            try:\n",
    "                num_i=float(text[i])\n",
    "            except:\n",
    "                continue\n",
    "            \n",
    "            for j in num_thr_list:\n",
    " \n",
    "                if j>num_i:\n",
    "                    text[i]=j\n",
    "                    break\n",
    "            text[i]=str(text[i])+text[i+1]+\" \"+str(text[i])\n",
    "            \n",
    "\n",
    "                \n",
    "       \n",
    "\n",
    "        \n",
    "        if len(text[i])==1 and text[i].isdigit()==False and text[i]  not in ['克','元','刀','性','斤','枪']:\n",
    "            text[i]=''\n",
    "                 \n",
    "    text=[i for i in text if i!='']                    \n",
    "                    \n",
    "                \n",
    "    return \" \".join(text)"
   ]
  },
  {
   "cell_type": "code",
   "execution_count": 17,
   "metadata": {},
   "outputs": [
    {
     "data": {
      "text/plain": [
       "'共计 人民币 300元 元'"
      ]
     },
     "execution_count": 17,
     "metadata": {},
     "output_type": "execute_result"
    }
   ],
   "source": [
    "preprocessing_fact(\"共计人民币200元\")"
   ]
  },
  {
   "cell_type": "code",
   "execution_count": 19,
   "metadata": {},
   "outputs": [],
   "source": [
    "import pandas as pd\n",
    "\n",
    "big=pd.read_csv(\"./Big_unq.csv\")"
   ]
  },
  {
   "cell_type": "code",
   "execution_count": null,
   "metadata": {},
   "outputs": [],
   "source": [
    "big['fact_cut_wd']=big['fact'].map(lambda x:preprocessing_fact(x))\n",
    "print(\"ok\")"
   ]
  },
  {
   "cell_type": "code",
   "execution_count": 21,
   "metadata": {},
   "outputs": [],
   "source": [
    "big.to_csv(\"./Big_gen.csv\")"
   ]
  },
  {
   "cell_type": "code",
   "execution_count": null,
   "metadata": {},
   "outputs": [],
   "source": []
  }
 ],
 "metadata": {
  "kernelspec": {
   "display_name": "Python 3",
   "language": "python",
   "name": "python3"
  },
  "language_info": {
   "codemirror_mode": {
    "name": "ipython",
    "version": 3
   },
   "file_extension": ".py",
   "mimetype": "text/x-python",
   "name": "python",
   "nbconvert_exporter": "python",
   "pygments_lexer": "ipython3",
   "version": "3.5.2"
  }
 },
 "nbformat": 4,
 "nbformat_minor": 2
}
