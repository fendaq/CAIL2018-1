{
 "cells": [
  {
   "cell_type": "code",
   "execution_count": 42,
   "metadata": {
    "scrolled": true
   },
   "outputs": [
    {
     "data": {
      "text/html": [
       "<div>\n",
       "<style scoped>\n",
       "    .dataframe tbody tr th:only-of-type {\n",
       "        vertical-align: middle;\n",
       "    }\n",
       "\n",
       "    .dataframe tbody tr th {\n",
       "        vertical-align: top;\n",
       "    }\n",
       "\n",
       "    .dataframe thead th {\n",
       "        text-align: right;\n",
       "    }\n",
       "</style>\n",
       "<table border=\"1\" class=\"dataframe\">\n",
       "  <thead>\n",
       "    <tr style=\"text-align: right;\">\n",
       "      <th></th>\n",
       "      <th>accusation</th>\n",
       "      <th>death_penalty</th>\n",
       "      <th>fact</th>\n",
       "      <th>imprisonment</th>\n",
       "      <th>life_imprisonment</th>\n",
       "      <th>relevant_articles_label</th>\n",
       "      <th>fact_cut_wd</th>\n",
       "      <th>imp_label</th>\n",
       "    </tr>\n",
       "  </thead>\n",
       "  <tbody>\n",
       "    <tr>\n",
       "      <th>0</th>\n",
       "      <td>['盗窃']</td>\n",
       "      <td>False</td>\n",
       "      <td>公诉机关指控：2016年3月28日20时许，被告人颜某在本市洪山区马湖新村足球场马路边捡拾到...</td>\n",
       "      <td>4</td>\n",
       "      <td>False</td>\n",
       "      <td>['264']</td>\n",
       "      <td>公诉 机关 指控 被告人 某某 马湖 足球场 马路边 捡拾 被害人 某某 CHEPAIHAO...</td>\n",
       "      <td>6</td>\n",
       "    </tr>\n",
       "    <tr>\n",
       "      <th>1</th>\n",
       "      <td>['盗窃']</td>\n",
       "      <td>False</td>\n",
       "      <td>天津市静海县人民检察院指控，2014年5月13日上午8时许，被告人李xx在天津市静海县大邱庄...</td>\n",
       "      <td>0</td>\n",
       "      <td>False</td>\n",
       "      <td>['264']</td>\n",
       "      <td>人民检察院 指控 上午 被告人 某某 大邱庄 宾馆 227 房间 某某 配货站 趁该 配货站...</td>\n",
       "      <td>2</td>\n",
       "    </tr>\n",
       "    <tr>\n",
       "      <th>2</th>\n",
       "      <td>['强奸']</td>\n",
       "      <td>False</td>\n",
       "      <td>永顺县人民检察院指控，2014年1月11日，被告人李某某与彭某某（另案处理）在永顺县塔卧镇“...</td>\n",
       "      <td>144</td>\n",
       "      <td>False</td>\n",
       "      <td>['236']</td>\n",
       "      <td>人民检察院 指控 被告人 某某 某某 另案处理 宾馆 房间内 先后 强行 被害人 某某 发生...</td>\n",
       "      <td>21</td>\n",
       "    </tr>\n",
       "    <tr>\n",
       "      <th>3</th>\n",
       "      <td>['盗窃']</td>\n",
       "      <td>False</td>\n",
       "      <td>公诉机关起诉书指控：\\r\\n2016年11月17日凌晨1时许，被告人周某在本县武康街道营盘小...</td>\n",
       "      <td>6</td>\n",
       "      <td>False</td>\n",
       "      <td>['264']</td>\n",
       "      <td>公诉 机关 起诉书 指控 凌晨 被告人 某某 武康 街道 营盘 131 南侧 过道 采用 拉...</td>\n",
       "      <td>7</td>\n",
       "    </tr>\n",
       "    <tr>\n",
       "      <th>4</th>\n",
       "      <td>['故意伤害']</td>\n",
       "      <td>False</td>\n",
       "      <td>大名县人民检察院起诉书指控，2014年3月25日9时许，被告人张某在自家庄某处因故与本村席某...</td>\n",
       "      <td>21</td>\n",
       "      <td>False</td>\n",
       "      <td>['234']</td>\n",
       "      <td>人民检察院 起诉书 指控 被告人 某某 自家 某某 因故 某某 发生争执 引起 打架 打架 ...</td>\n",
       "      <td>12</td>\n",
       "    </tr>\n",
       "  </tbody>\n",
       "</table>\n",
       "</div>"
      ],
      "text/plain": [
       "  accusation  death_penalty  \\\n",
       "0     ['盗窃']          False   \n",
       "1     ['盗窃']          False   \n",
       "2     ['强奸']          False   \n",
       "3     ['盗窃']          False   \n",
       "4   ['故意伤害']          False   \n",
       "\n",
       "                                                fact  imprisonment  \\\n",
       "0  公诉机关指控：2016年3月28日20时许，被告人颜某在本市洪山区马湖新村足球场马路边捡拾到...             4   \n",
       "1  天津市静海县人民检察院指控，2014年5月13日上午8时许，被告人李xx在天津市静海县大邱庄...             0   \n",
       "2  永顺县人民检察院指控，2014年1月11日，被告人李某某与彭某某（另案处理）在永顺县塔卧镇“...           144   \n",
       "3  公诉机关起诉书指控：\\r\\n2016年11月17日凌晨1时许，被告人周某在本县武康街道营盘小...             6   \n",
       "4  大名县人民检察院起诉书指控，2014年3月25日9时许，被告人张某在自家庄某处因故与本村席某...            21   \n",
       "\n",
       "   life_imprisonment relevant_articles_label  \\\n",
       "0              False                 ['264']   \n",
       "1              False                 ['264']   \n",
       "2              False                 ['236']   \n",
       "3              False                 ['264']   \n",
       "4              False                 ['234']   \n",
       "\n",
       "                                         fact_cut_wd  imp_label  \n",
       "0  公诉 机关 指控 被告人 某某 马湖 足球场 马路边 捡拾 被害人 某某 CHEPAIHAO...          6  \n",
       "1  人民检察院 指控 上午 被告人 某某 大邱庄 宾馆 227 房间 某某 配货站 趁该 配货站...          2  \n",
       "2  人民检察院 指控 被告人 某某 某某 另案处理 宾馆 房间内 先后 强行 被害人 某某 发生...         21  \n",
       "3  公诉 机关 起诉书 指控 凌晨 被告人 某某 武康 街道 营盘 131 南侧 过道 采用 拉...          7  \n",
       "4  人民检察院 起诉书 指控 被告人 某某 自家 某某 因故 某某 发生争执 引起 打架 打架 ...         12  "
      ]
     },
     "execution_count": 42,
     "metadata": {},
     "output_type": "execute_result"
    }
   ],
   "source": [
    "\n",
    "import pandas  as pd\n",
    "data=pd.read_csv(\"./csv/cail2018_big.csv\")\n",
    "data.head()\n",
    "\n"
   ]
  },
  {
   "cell_type": "code",
   "execution_count": 43,
   "metadata": {},
   "outputs": [
    {
     "data": {
      "text/plain": [
       "9     268483\n",
       "7     263668\n",
       "6     157194\n",
       "8     143249\n",
       "3     132395\n",
       "4     120904\n",
       "5      97334\n",
       "14     94850\n",
       "11     79292\n",
       "12     69032\n",
       "2      56642\n",
       "10     53730\n",
       "15     31583\n",
       "16     28943\n",
       "13     25675\n",
       "17     20904\n",
       "18     17028\n",
       "19     12317\n",
       "20     12159\n",
       "22      9487\n",
       "21      7612\n",
       "1       5173\n",
       "0       2396\n",
       "23       782\n",
       "24        24\n",
       "Name: imp_label, dtype: int64"
      ]
     },
     "execution_count": 43,
     "metadata": {},
     "output_type": "execute_result"
    }
   ],
   "source": [
    "data['imp_label'].value_counts()"
   ]
  },
  {
   "cell_type": "code",
   "execution_count": 44,
   "metadata": {},
   "outputs": [],
   "source": [
    "from math import log\n",
    "from math import exp"
   ]
  },
  {
   "cell_type": "code",
   "execution_count": 45,
   "metadata": {},
   "outputs": [
    {
     "name": "stdout",
     "output_type": "stream",
     "text": [
      "[[246, 300], [201, 245], [164, 200], [134, 163], [109, 133], [89, 108], [72, 88], [58, 71], [47, 57], [38, 46], [31, 37], [25, 30], [20, 24], [16, 19], [13, 15], [10, 12], [8, 9], [6, 7], [4, 5], [3, 3], [2, 2], [1, 1], [0, 0], [-1, -1], [-2, -2]]\n",
      "25\n"
     ]
    }
   ],
   "source": [
    "end=300\n",
    "\n",
    "class_cut_range=[]\n",
    "\n",
    "\n",
    "\n",
    "start=int(exp(log(end+1)-0.2))-1\n",
    "\n",
    "\n",
    "while start>=0:\n",
    "\n",
    "    \n",
    "    info=[start+1,end]\n",
    "    \n",
    "    class_cut_range.append(info)\n",
    "#     print('{} --->{}'.format(info,round((start+1+end)/2)))\n",
    "    end=int(start)\n",
    "    start=int(exp(log(end+1)-0.2))-1\n",
    "    \n",
    "class_cut_range.append([0,0])\n",
    "class_cut_range.append([-1,-1])\n",
    "class_cut_range.append([-2,-2])\n",
    "\n",
    "print(class_cut_range)\n",
    "print(len(class_cut_range))\n"
   ]
  },
  {
   "cell_type": "code",
   "execution_count": null,
   "metadata": {},
   "outputs": [],
   "source": []
  },
  {
   "cell_type": "code",
   "execution_count": 52,
   "metadata": {},
   "outputs": [
    {
     "name": "stdout",
     "output_type": "stream",
     "text": [
      "[-2, -2] 0\n",
      "[-1, -1] 1\n",
      "[0, 0] 2\n",
      "[1, 1] 3\n",
      "[2, 2] 4\n",
      "[3, 3] 5\n",
      "[4, 5] 6\n",
      "[6, 7] 7\n",
      "[8, 9] 8\n",
      "[10, 12] 9\n",
      "[13, 15] 10\n",
      "[16, 19] 11\n",
      "[20, 24] 12\n",
      "[25, 30] 13\n",
      "[31, 37] 14\n",
      "[38, 46] 15\n",
      "[47, 57] 16\n",
      "[58, 71] 17\n",
      "[72, 88] 18\n",
      "[89, 108] 19\n",
      "[109, 133] 20\n",
      "[134, 163] 21\n",
      "[164, 200] 22\n",
      "[201, 245] 23\n",
      "[246, 300] 24\n",
      "{0: -2.0, 1: -1.0, 2: 0.0, 3: 1.0, 4: 2.0, 5: 3.0, 6: 4.5, 7: 6.5, 8: 8.5, 9: 11.0, 10: 14.0, 11: 17.5, 12: 22.0, 13: 27.5, 14: 34.0, 15: 42.0, 16: 52.0, 17: 64.5, 18: 96, 19: 98.5, 20: 109, 21: 134, 22: 164, 23: 201, 24: 246}\n"
     ]
    }
   ],
   "source": [
    "imp_dict={}\n",
    "\n",
    "start=0\n",
    "\n",
    "class_2_imp={}\n",
    "class_2_imp[0]=-2\n",
    "class_2_imp[1]=-1\n",
    "class_2_thr={}\n",
    "\n",
    "class_2_thr[0]='[-2]'\n",
    "class_2_thr[1]='[-1]'\n",
    "\n",
    "\n",
    "\n",
    "for i in  range(1,len(class_cut_range)+1):\n",
    "    s=class_cut_range[-i]\n",
    "    print(s,start)\n",
    "    imp_dict[str(s)]=start\n",
    "    class_2_imp[start]=((s[0]+s[1])/2)\n",
    "    start+=1\n",
    "    \n",
    "class_2_imp[24]=246\n",
    "class_2_imp[23]=201\n",
    "class_2_imp[22]=164\n",
    "class_2_imp[21]=134\n",
    "class_2_imp[20]=109\n",
    "\n",
    "\n",
    "print(class_2_imp)\n"
   ]
  },
  {
   "cell_type": "code",
   "execution_count": 53,
   "metadata": {},
   "outputs": [
    {
     "data": {
      "text/plain": [
       "9     268483\n",
       "7     263668\n",
       "6     157194\n",
       "8     143249\n",
       "3     132395\n",
       "4     120904\n",
       "5      97334\n",
       "14     94850\n",
       "11     79292\n",
       "12     69032\n",
       "2      56642\n",
       "10     53730\n",
       "15     31583\n",
       "16     28943\n",
       "13     25675\n",
       "17     20904\n",
       "18     17028\n",
       "19     12317\n",
       "20     12159\n",
       "22      9487\n",
       "21      7612\n",
       "1       5173\n",
       "0       2396\n",
       "23       782\n",
       "24        24\n",
       "Name: imp_label, dtype: int64"
      ]
     },
     "execution_count": 53,
     "metadata": {},
     "output_type": "execute_result"
    }
   ],
   "source": [
    "data['imp_label'].value_counts()"
   ]
  },
  {
   "cell_type": "code",
   "execution_count": 54,
   "metadata": {},
   "outputs": [],
   "source": [
    "import pickle\n",
    "with open(\"imp_class.dict\",'wb') as f:\n",
    "    pickle.dump(imp_dict,f)"
   ]
  },
  {
   "cell_type": "code",
   "execution_count": 55,
   "metadata": {},
   "outputs": [],
   "source": [
    "with open(\"class_2_imp.dict\",'wb') as f:\n",
    "    pickle.dump(class_2_imp,f)"
   ]
  },
  {
   "cell_type": "code",
   "execution_count": null,
   "metadata": {},
   "outputs": [],
   "source": []
  }
 ],
 "metadata": {
  "kernelspec": {
   "display_name": "Python 3",
   "language": "python",
   "name": "python3"
  },
  "language_info": {
   "codemirror_mode": {
    "name": "ipython",
    "version": 3
   },
   "file_extension": ".py",
   "mimetype": "text/x-python",
   "name": "python",
   "nbconvert_exporter": "python",
   "pygments_lexer": "ipython3",
   "version": "3.5.2"
  }
 },
 "nbformat": 4,
 "nbformat_minor": 2
}
